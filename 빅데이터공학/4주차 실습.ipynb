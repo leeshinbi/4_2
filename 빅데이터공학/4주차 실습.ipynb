{
 "cells": [
  {
   "cell_type": "code",
   "execution_count": 1,
   "metadata": {},
   "outputs": [],
   "source": [
    "from selenium import webdriver\n",
    "from selenium.webdriver.common.keys import Keys\n",
    "from selenium.webdriver.support.ui import WebDriverWait\n",
    "from selenium.common.exceptions import NoSuchElementException\n",
    "import selenium.common.exceptions as sex\n",
    "\n",
    "import pandas as pd\n",
    "import numpy as np\n",
    "\n",
    "from bs4 import BeautifulSoup\n",
    "# import lxml\n",
    "\n",
    "import time\n",
    "from time import sleep\n",
    "import random\n",
    "import re\n",
    "from selenium.webdriver.common.by import By\n",
    "from selenium.webdriver.common.action_chains import ActionChains\n",
    "from selenium.webdriver.support.ui import WebDriverWait\n",
    "from selenium.webdriver.support import expected_conditions as EC\n",
    "\n",
    "# from tqdm import tqdm"
   ]
  },
  {
   "cell_type": "code",
   "execution_count": 26,
   "metadata": {},
   "outputs": [],
   "source": [
    "driver = webdriver.Chrome()\n",
    "start_url = \"https://www.commonsensemedia.org/lists/latin-american-academy-award-winners-and-nominees\"\n",
    "driver.get(start_url)"
   ]
  },
  {
   "cell_type": "code",
   "execution_count": 27,
   "metadata": {},
   "outputs": [],
   "source": [
    "def scroll_down():\n",
    "    elem = driver.find_element(By.TAG_NAME, \"body\")\n",
    "    last_height = driver.execute_script(\"return document.body.scrollHeight\")\n",
    "\n",
    "    while True:\n",
    "        scroll_down = 0\n",
    "        while scroll_down < 10:\n",
    "            elem.send_keys(Keys.PAGE_DOWN)\n",
    "            time.sleep(0.2)\n",
    "            scroll_down += 1\n",
    "        \n",
    "        new_height = driver.execute_script(\"return document.body.scrollHeight\")\n",
    "        if new_height == last_height:\n",
    "            # print(\"끝\")\n",
    "            break\n",
    "\n",
    "        last_height = new_height"
   ]
  },
  {
   "cell_type": "code",
   "execution_count": 28,
   "metadata": {},
   "outputs": [],
   "source": [
    "scroll_down()"
   ]
  },
  {
   "cell_type": "code",
   "execution_count": 29,
   "metadata": {},
   "outputs": [],
   "source": [
    "page = driver.page_source\n",
    "soup = BeautifulSoup(page, 'html.parser')"
   ]
  },
  {
   "cell_type": "code",
   "execution_count": 30,
   "metadata": {},
   "outputs": [
    {
     "data": {
      "text/plain": [
       "['Encanto', 'A Little Princess', 'Raya and the Last Dragon']"
      ]
     },
     "execution_count": 30,
     "metadata": {},
     "output_type": "execute_result"
    }
   ],
   "source": [
    "title_list = []\n",
    "\n",
    "for i in soup.find_all('h3', class_=\"review-title\"):\n",
    "    title = i.find('a')\n",
    "    title = title.text\n",
    "    title_list.append(title)\n",
    "    \n",
    "title_list[:3]"
   ]
  },
  {
   "cell_type": "code",
   "execution_count": 31,
   "metadata": {},
   "outputs": [],
   "source": [
    "button=driver.find_element(By.XPATH , r'//*//*//*[@id=\"review-teaser-82065\"]/div[2]/h3/a').click() "
   ]
  },
  {
   "cell_type": "code",
   "execution_count": 32,
   "metadata": {},
   "outputs": [],
   "source": [
    "scroll_down()"
   ]
  },
  {
   "cell_type": "code",
   "execution_count": 33,
   "metadata": {},
   "outputs": [],
   "source": [
    "button=driver.find_element(By.XPATH , r'//*//*//*[@id=\"user-reviews-reviews-list-adult\"]/div[3]/div[2]/a').click() "
   ]
  },
  {
   "cell_type": "code",
   "execution_count": 34,
   "metadata": {},
   "outputs": [],
   "source": [
    "scroll_down()"
   ]
  },
  {
   "cell_type": "code",
   "execution_count": 35,
   "metadata": {},
   "outputs": [],
   "source": [
    "page = driver.page_source\n",
    "soup = BeautifulSoup(page, 'html.parser')"
   ]
  },
  {
   "cell_type": "code",
   "execution_count": 36,
   "metadata": {},
   "outputs": [
    {
     "data": {
      "text/plain": [
       "[]"
      ]
     },
     "execution_count": 36,
     "metadata": {},
     "output_type": "execute_result"
    }
   ],
   "source": [
    "soup.find_all('a',class_=\"reveal__content collapse show\")"
   ]
  },
  {
   "cell_type": "code",
   "execution_count": 37,
   "metadata": {},
   "outputs": [
    {
     "name": "stdout",
     "output_type": "stream",
     "text": [
      "- As a Colombian, I greatly appreciated the wonderful effort to beautifully portray aspects of our diverse and rich culture. The music is lovely and the art is just so pictoresque.\n",
      "However, as a clinical psychologist and mother of a 3 year old, this movie is about anxiety and trauma. This movie is NOT for kids. Luisa's song is basically a panic attack. Bruno's love for a family that has shut him out doesn't make sense and has brought him nothing but pain and mental health issues.\n",
      "The evil of grandmother's messages can validate all the wrong things if not accompanied appropriately by an adult.\n",
      "There is almost TOO much magic and fiction in the plot, that ends up creating noise for the audience and the actual plot.\n",
      "- This movie… WOW. As a mental health professional, survivor of deep generational trauma and a mother, this movie is everything. I hadn’t heard of it until my 6 year old son watched it in school and encouraged me to watch it with him. We’ve seen it 4 times now. It’s opened the door for us to have age appropriate discussions of self love, worthiness and forgiveness.  Disney has really come a long way.. they have produced some truly revolutionary films in the past 6-7 years and I am here for it! The animation and film score are both phenomenal as well. We have been listening to the soundtrack for a month straight and can’t get enough!\n",
      "- I had high hopes going to see this movie.  Due to covid we have not gone to the movies in a long time, but my kids really wanted to watch El Encanto, so I decided to surprise them all and take them last night.  I could not believe that I was watching a Disney movie.  The songs felt off, the story line made no sense, the cruelty towards Maribel and Bruno was disturbing, and I felt as if there was no real effort to show redemption in the grandma.  The worse part was that all of my kids ended up hating the movie.  The felt disappointed.  The only interesting character in the movie was Bruno (his back story made sense, and we were able to sympathize, and even cheer for him as he came to stand up for Maribel.  But all other characters needed less awful singing and more character building. And a better plot line, and even a recognition of how the family minus mom and dad have been treating Maribel like the black sheep.  I just felt like Disney made a mess to this hispanic movie that could have been so beautiful and full of magic and traditions.  Sadly this is one movie I won't be collecting for my Disney collection shelf, and if I could get my $80 movie tickets refunded I truly would, this movie felt that bad.\n",
      "- Only go if your kids can follow story line, kind of confusing.  I would not take children younger than 5.  To much singing and very hard story line...loved Coco, was hoping for same, I'm very disappointed in the story line.  Being Latina I so hoped much better in the story line...I give this movie a 3 and that's only for the wonderful colors in this movie.\n",
      "- We don't talk about Bruno\n",
      "- This movie was terrible. There was no real ending to it, no closure, nothing but nonsense. The grandma is horrible, most of the adult members of the family are really. Mirabel just forgiving the grandma for being so horrible without her actually putting in ANY effort to not be horrible was poorly written. Not to mention the lackluster songs....I don't understand why people love this movie.\n",
      "- Wonderful movie! Lovely, bright colours, catchy songs, likeable characters, fun family movie! I love this movie so much and so do my kids! It's such a great film for families, with diverse characters. Includes a strong female lead which is great for young girls. Demonstrating that differences are not weaknesses, which is a positive message. Great role models, funny characters. Creative movie! \n",
      "There is one flashback scene where a man is killed. The movie doesn't actually show it, we just have to infer that that's what happened. Other that that, perfect family movie!\n",
      "- Amazing music , fun to watch! Could of had a little more development with characters and more actually happen but kid loved it!\n",
      "- This movie uses colorful imagery and song to portray itself as some sort of whimsical children's movie, however both my kids started to have nightmares after watching this movie and kept saying how scary it was. The subplots of this film (which mostly center on anxiety and abandonment) are more appropriate for adolescents or millenials than actual kids. It's another example of how Disney has forgotten who it's primary audience is. The art style comes across as dark and the characters just had a creepy look to them. My kids were terrified of the green glowing hooded Bruno guy and he made Mother Gothel or Uncle Scar look friendly and bright by comparison.  Utimately this could have been a good movie that suffered because of a poor choice of style/art. The characters just looked creepy and my kids picked up on it immediately.\n",
      "- Holy smokes. BEST KID’s MOVIE I’ve seen in years! This movie is just EVERYTHING! I was SHOCKED to see the semi-mixed reviews here!\n",
      "\n",
      "Characters are SO amazing, wel-developed, strong and REAL! The themes and storyline are so relatable to every age and every stage! The family dynamics and amazing message of the importance of allowing imperfection and balance to life.\n",
      "\n",
      "The MUSIC IS GOLD! The minute we finished watching the movie, we turned the music in and have been jamming to it ever since! Lin-Manuel Miranda is a genius! Lyrics, music, everything, EXCELLENT! \n",
      "\n",
      "Do yourself and your family a favor and watch this! Great! \n",
      "\n",
      "Also, a note: my son is four and does not like movies with “unkind guys”. This movie does a great job of creating suspense and adventure without a specific “bad guy”.  The few suspenseful scenes and quick passing and followed by humor.\n"
     ]
    }
   ],
   "source": [
    "for i in soup.find_all('div', class_=\"reveal__content\"):\n",
    "    reviews =i.text\n",
    "    reviews = reviews.strip()\n",
    "\n",
    "    print('-', reviews)"
   ]
  },
  {
   "cell_type": "code",
   "execution_count": 42,
   "metadata": {},
   "outputs": [
    {
     "name": "stdout",
     "output_type": "stream",
     "text": [
      "- As a Colombian, I greatly appreciated the wonderful effort to beautifully portray aspects of our diverse and rich culture. The music is lovely and the art is just so pictoresque.\n",
      "However, as a clinical psychologist and mother of a 3 year old, this movie is about anxiety and trauma. This movie is NOT for kids. Luisa's song is basically a panic attack. Bruno's love for a family that has shut him out doesn't make sense and has brought him nothing but pain and mental health issues.\n",
      "The evil of grandmother's messages can validate all the wrong things if not accompanied appropriately by an adult.\n",
      "There is almost TOO much magic and fiction in the plot, that ends up creating noise for the audience and the actual plot.\n",
      "- This movie… WOW. As a mental health professional, survivor of deep generational trauma and a mother, this movie is everything. I hadn’t heard of it until my 6 year old son watched it in school and encouraged me to watch it with him. We’ve seen it 4 times now. It’s opened the door for us to have age appropriate discussions of self love, worthiness and forgiveness.  Disney has really come a long way.. they have produced some truly revolutionary films in the past 6-7 years and I am here for it! The animation and film score are both phenomenal as well. We have been listening to the soundtrack for a month straight and can’t get enough!\n",
      "- I had high hopes going to see this movie.  Due to covid we have not gone to the movies in a long time, but my kids really wanted to watch El Encanto, so I decided to surprise them all and take them last night.  I could not believe that I was watching a Disney movie.  The songs felt off, the story line made no sense, the cruelty towards Maribel and Bruno was disturbing, and I felt as if there was no real effort to show redemption in the grandma.  The worse part was that all of my kids ended up hating the movie.  The felt disappointed.  The only interesting character in the movie was Bruno (his back story made sense, and we were able to sympathize, and even cheer for him as he came to stand up for Maribel.  But all other characters needed less awful singing and more character building. And a better plot line, and even a recognition of how the family minus mom and dad have been treating Maribel like the black sheep.  I just felt like Disney made a mess to this hispanic movie that could have been so beautiful and full of magic and traditions.  Sadly this is one movie I won't be collecting for my Disney collection shelf, and if I could get my $80 movie tickets refunded I truly would, this movie felt that bad.\n",
      "- Only go if your kids can follow story line, kind of confusing.  I would not take children younger than 5.  To much singing and very hard story line...loved Coco, was hoping for same, I'm very disappointed in the story line.  Being Latina I so hoped much better in the story line...I give this movie a 3 and that's only for the wonderful colors in this movie.\n",
      "- We don't talk about Bruno\n",
      "- This movie was terrible. There was no real ending to it, no closure, nothing but nonsense. The grandma is horrible, most of the adult members of the family are really. Mirabel just forgiving the grandma for being so horrible without her actually putting in ANY effort to not be horrible was poorly written. Not to mention the lackluster songs....I don't understand why people love this movie.\n",
      "- Wonderful movie! Lovely, bright colours, catchy songs, likeable characters, fun family movie! I love this movie so much and so do my kids! It's such a great film for families, with diverse characters. Includes a strong female lead which is great for young girls. Demonstrating that differences are not weaknesses, which is a positive message. Great role models, funny characters. Creative movie! \n",
      "There is one flashback scene where a man is killed. The movie doesn't actually show it, we just have to infer that that's what happened. Other that that, perfect family movie!\n",
      "- Amazing music , fun to watch! Could of had a little more development with characters and more actually happen but kid loved it!\n",
      "- This movie uses colorful imagery and song to portray itself as some sort of whimsical children's movie, however both my kids started to have nightmares after watching this movie and kept saying how scary it was. The subplots of this film (which mostly center on anxiety and abandonment) are more appropriate for adolescents or millenials than actual kids. It's another example of how Disney has forgotten who it's primary audience is. The art style comes across as dark and the characters just had a creepy look to them. My kids were terrified of the green glowing hooded Bruno guy and he made Mother Gothel or Uncle Scar look friendly and bright by comparison.  Utimately this could have been a good movie that suffered because of a poor choice of style/art. The characters just looked creepy and my kids picked up on it immediately.\n",
      "- Holy smokes. BEST KID’s MOVIE I’ve seen in years! This movie is just EVERYTHING! I was SHOCKED to see the semi-mixed reviews here!\n",
      "\n",
      "Characters are SO amazing, wel-developed, strong and REAL! The themes and storyline are so relatable to every age and every stage! The family dynamics and amazing message of the importance of allowing imperfection and balance to life.\n",
      "\n",
      "The MUSIC IS GOLD! The minute we finished watching the movie, we turned the music in and have been jamming to it ever since! Lin-Manuel Miranda is a genius! Lyrics, music, everything, EXCELLENT! \n",
      "\n",
      "Do yourself and your family a favor and watch this! Great! \n",
      "\n",
      "Also, a note: my son is four and does not like movies with “unkind guys”. This movie does a great job of creating suspense and adventure without a specific “bad guy”.  The few suspenseful scenes and quick passing and followed by humor.\n"
     ]
    }
   ],
   "source": [
    "review_list = []\n",
    "\n",
    "for i in soup.find_all('div', class_=\"reveal__content\"):\n",
    "    reviews =i.text\n",
    "    reviews = reviews.strip()\n",
    "    review_list.append(reviews)\n",
    "    print('-', reviews)"
   ]
  },
  {
   "cell_type": "code",
   "execution_count": 44,
   "metadata": {},
   "outputs": [],
   "source": [
    "pd.DataFrame({'review' : review_list}).to_csv('review.csv')"
   ]
  },
  {
   "cell_type": "code",
   "execution_count": 47,
   "metadata": {},
   "outputs": [
    {
     "data": {
      "text/plain": [
       "'c:\\\\Users\\\\82103\\\\Desktop\\\\4학년2학기\\\\빅데이터실습'"
      ]
     },
     "execution_count": 47,
     "metadata": {},
     "output_type": "execute_result"
    }
   ],
   "source": [
    "/pwd"
   ]
  },
  {
   "cell_type": "code",
   "execution_count": 46,
   "metadata": {},
   "outputs": [
    {
     "data": {
      "text/html": [
       "<div>\n",
       "<style scoped>\n",
       "    .dataframe tbody tr th:only-of-type {\n",
       "        vertical-align: middle;\n",
       "    }\n",
       "\n",
       "    .dataframe tbody tr th {\n",
       "        vertical-align: top;\n",
       "    }\n",
       "\n",
       "    .dataframe thead th {\n",
       "        text-align: right;\n",
       "    }\n",
       "</style>\n",
       "<table border=\"1\" class=\"dataframe\">\n",
       "  <thead>\n",
       "    <tr style=\"text-align: right;\">\n",
       "      <th></th>\n",
       "      <th>review</th>\n",
       "    </tr>\n",
       "  </thead>\n",
       "  <tbody>\n",
       "    <tr>\n",
       "      <th>0</th>\n",
       "      <td>As a Colombian, I greatly appreciated the wond...</td>\n",
       "    </tr>\n",
       "    <tr>\n",
       "      <th>1</th>\n",
       "      <td>This movie… WOW. As a mental health profession...</td>\n",
       "    </tr>\n",
       "    <tr>\n",
       "      <th>2</th>\n",
       "      <td>I had high hopes going to see this movie.  Due...</td>\n",
       "    </tr>\n",
       "    <tr>\n",
       "      <th>3</th>\n",
       "      <td>Only go if your kids can follow story line, ki...</td>\n",
       "    </tr>\n",
       "    <tr>\n",
       "      <th>4</th>\n",
       "      <td>We don't talk about Bruno</td>\n",
       "    </tr>\n",
       "  </tbody>\n",
       "</table>\n",
       "</div>"
      ],
      "text/plain": [
       "                                              review\n",
       "0  As a Colombian, I greatly appreciated the wond...\n",
       "1  This movie… WOW. As a mental health profession...\n",
       "2  I had high hopes going to see this movie.  Due...\n",
       "3  Only go if your kids can follow story line, ki...\n",
       "4                          We don't talk about Bruno"
      ]
     },
     "execution_count": 46,
     "metadata": {},
     "output_type": "execute_result"
    }
   ],
   "source": [
    "df = pd.read_csv('review.csv',index_col=0)\n",
    "df.head()"
   ]
  }
 ],
 "metadata": {
  "kernelspec": {
   "display_name": "bigdata",
   "language": "python",
   "name": "python3"
  },
  "language_info": {
   "codemirror_mode": {
    "name": "ipython",
    "version": 3
   },
   "file_extension": ".py",
   "mimetype": "text/x-python",
   "name": "python",
   "nbconvert_exporter": "python",
   "pygments_lexer": "ipython3",
   "version": "3.9.0"
  },
  "orig_nbformat": 4
 },
 "nbformat": 4,
 "nbformat_minor": 2
}
