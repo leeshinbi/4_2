{
 "cells": [
  {
   "cell_type": "code",
   "execution_count": 2,
   "metadata": {},
   "outputs": [],
   "source": [
    "from selenium import webdriver\n",
    "from selenium.webdriver.common.keys import Keys\n",
    "from selenium.webdriver.support.ui import WebDriverWait\n",
    "from selenium.common.exceptions import NoSuchElementException\n",
    "import selenium.common.exceptions as sex\n",
    "\n",
    "import pandas as pd\n",
    "import numpy as np\n",
    "\n",
    "from bs4 import BeautifulSoup\n",
    "# import lxml\n",
    "\n",
    "import time\n",
    "from time import sleep\n",
    "import random\n",
    "import re\n",
    "from selenium.webdriver.common.by import By\n",
    "from selenium.webdriver.common.action_chains import ActionChains\n",
    "from selenium.webdriver.support.ui import WebDriverWait\n",
    "from selenium.webdriver.support import expected_conditions as EC\n",
    "\n",
    "# from tqdm import tqdm"
   ]
  },
  {
   "cell_type": "code",
   "execution_count": 34,
   "metadata": {},
   "outputs": [],
   "source": [
    "driver = webdriver.Chrome()\n",
    "start_url = \"https://www.commonsensemedia.org/lists/latin-american-academy-award-winners-and-nominees\"\n",
    "driver.get(start_url)"
   ]
  },
  {
   "cell_type": "code",
   "execution_count": 5,
   "metadata": {},
   "outputs": [],
   "source": [
    "def scroll_down():\n",
    "    elem = driver.find_element(By.TAG_NAME, \"body\")\n",
    "    last_height = driver.execute_script(\"return document.body.scrollHeight\")\n",
    "\n",
    "    while True:\n",
    "        scroll_down = 0\n",
    "        while scroll_down < 10:\n",
    "            elem.send_keys(Keys.PAGE_DOWN)\n",
    "            time.sleep(0.2)\n",
    "            scroll_down += 1\n",
    "        \n",
    "        new_height = driver.execute_script(\"return document.body.scrollHeight\")\n",
    "        if new_height == last_height:\n",
    "            # print(\"끝\")\n",
    "            break\n",
    "\n",
    "        last_height = new_height"
   ]
  },
  {
   "cell_type": "code",
   "execution_count": 35,
   "metadata": {},
   "outputs": [],
   "source": [
    "scroll_down()"
   ]
  },
  {
   "cell_type": "code",
   "execution_count": 36,
   "metadata": {},
   "outputs": [],
   "source": [
    "page = driver.page_source\n",
    "soup = BeautifulSoup(page, 'html.parser')"
   ]
  },
  {
   "cell_type": "code",
   "execution_count": 37,
   "metadata": {},
   "outputs": [
    {
     "data": {
      "text/plain": [
       "[<h3 class=\"review-title\">\n",
       " <a class=\"link link--title\" href=\"/movie-reviews/encanto\">Encanto</a>\n",
       " </h3>,\n",
       " <h3 class=\"review-title\">\n",
       " <a class=\"link link--title\" href=\"/movie-reviews/a-little-princess\">A Little Princess</a>\n",
       " </h3>,\n",
       " <h3 class=\"review-title\">\n",
       " <a class=\"link link--title\" href=\"/movie-reviews/raya-and-the-last-dragon\">Raya and the Last Dragon</a>\n",
       " </h3>,\n",
       " <h3 class=\"review-title\">\n",
       " <a class=\"link link--title\" href=\"/tv-reviews/le-pupille\">Le Pupille</a>\n",
       " </h3>,\n",
       " <h3 class=\"review-title\">\n",
       " <a class=\"link link--title\" href=\"/movie-reviews/guillermo-del-toros-pinocchio\">Guillermo del Toro's Pinocchio</a>\n",
       " </h3>,\n",
       " <h3 class=\"review-title\">\n",
       " <a class=\"link link--title\" href=\"/movie-reviews/west-side-story\">West Side Story</a>\n",
       " </h3>,\n",
       " <h3 class=\"review-title\">\n",
       " <a class=\"link link--title\" href=\"/movie-reviews/life-of-pi\">Life of Pi</a>\n",
       " </h3>,\n",
       " <h3 class=\"review-title\">\n",
       " <a class=\"link link--title\" href=\"/movie-reviews/the-new-world\">The New World</a>\n",
       " </h3>,\n",
       " <h3 class=\"review-title\">\n",
       " <a class=\"link link--title\" href=\"/movie-reviews/west-side-story-2021\">West Side Story (2021)</a>\n",
       " </h3>,\n",
       " <h3 class=\"review-title\">\n",
       " <a class=\"link link--title\" href=\"/movie-reviews/argentina-1985\">Argentina, 1985</a>\n",
       " </h3>,\n",
       " <h3 class=\"review-title\">\n",
       " <a class=\"link link--title\" href=\"/movie-reviews/gravity\">Gravity</a>\n",
       " </h3>,\n",
       " <h3 class=\"review-title\">\n",
       " <a class=\"link link--title\" href=\"/movie-reviews/the-tree-of-life\">The Tree of Life</a>\n",
       " </h3>,\n",
       " <h3 class=\"review-title\">\n",
       " <a class=\"link link--title\" href=\"/movie-reviews/pans-labyrinth\">Pan's Labyrinth</a>\n",
       " </h3>,\n",
       " <h3 class=\"review-title\">\n",
       " <a class=\"link link--title\" href=\"/movie-reviews/sound-of-metal\">Sound of Metal</a>\n",
       " </h3>,\n",
       " <h3 class=\"review-title\">\n",
       " <a class=\"link link--title\" href=\"/movie-reviews/the-curious-case-of-benjamin-button\">The Curious Case of Benjamin Button</a>\n",
       " </h3>,\n",
       " <h3 class=\"review-title\">\n",
       " <a class=\"link link--title\" href=\"/movie-reviews/frida\">Frida</a>\n",
       " </h3>,\n",
       " <h3 class=\"review-title\">\n",
       " <a class=\"link link--title\" href=\"/movie-reviews/roma\">Roma</a>\n",
       " </h3>,\n",
       " <h3 class=\"review-title\">\n",
       " <a class=\"link link--title\" href=\"/movie-reviews/the-motorcycle-diaries\">The Motorcycle Diaries</a>\n",
       " </h3>,\n",
       " <h3 class=\"review-title\">\n",
       " <a class=\"link link--title\" href=\"/movie-reviews/birdman\">Birdman</a>\n",
       " </h3>,\n",
       " <h3 class=\"review-title\">\n",
       " <a class=\"link link--title\" href=\"/movie-reviews/the-shape-of-water\">The Shape of Water</a>\n",
       " </h3>,\n",
       " <h3 class=\"review-title\">\n",
       " <a class=\"link link--title\" href=\"/movie-reviews/babel\">Babel</a>\n",
       " </h3>,\n",
       " <h3 class=\"review-title\">\n",
       " <a class=\"link link--title\" href=\"/movie-reviews/traffic\">Traffic</a>\n",
       " </h3>,\n",
       " <h3 class=\"review-title\">\n",
       " <a class=\"link link--title\" href=\"/movie-reviews/brokeback-mountain\">Brokeback Mountain</a>\n",
       " </h3>,\n",
       " <h3 class=\"review-title\">\n",
       " <a class=\"link link--title\" href=\"/movie-reviews/a-fantastic-woman\">A Fantastic Woman</a>\n",
       " </h3>,\n",
       " <h3 class=\"review-title\">\n",
       " <a class=\"link link--title\" href=\"/movie-reviews/children-of-men\">Children of Men</a>\n",
       " </h3>,\n",
       " <h3 class=\"review-title\">\n",
       " <a class=\"link link--title\" href=\"/movie-reviews/blonde\">Blonde</a>\n",
       " </h3>,\n",
       " <h3 class=\"review-title\">\n",
       " <a class=\"link link--title\" href=\"/movie-reviews/the-revenant\">The Revenant</a>\n",
       " </h3>]"
      ]
     },
     "execution_count": 37,
     "metadata": {},
     "output_type": "execute_result"
    }
   ],
   "source": [
    "soup.find_all('h3',class_=\"review-title\")"
   ]
  },
  {
   "cell_type": "code",
   "execution_count": 12,
   "metadata": {},
   "outputs": [
    {
     "data": {
      "text/plain": [
       "27"
      ]
     },
     "execution_count": 12,
     "metadata": {},
     "output_type": "execute_result"
    }
   ],
   "source": [
    "len(soup.find_all('h3',class_=\"review-title\"))"
   ]
  },
  {
   "cell_type": "code",
   "execution_count": 38,
   "metadata": {},
   "outputs": [
    {
     "data": {
      "text/plain": [
       "['Encanto', 'A Little Princess', 'Raya and the Last Dragon']"
      ]
     },
     "execution_count": 38,
     "metadata": {},
     "output_type": "execute_result"
    }
   ],
   "source": [
    "title_list = []\n",
    "\n",
    "for i in soup.find_all('h3',class_=\"review-title\"):\n",
    "    title = i.find('a')\n",
    "    title = title.text\n",
    "    title_list.append(title)\n",
    "\n",
    "title_list[:3]"
   ]
  },
  {
   "cell_type": "code",
   "execution_count": 39,
   "metadata": {},
   "outputs": [
    {
     "name": "stdout",
     "output_type": "stream",
     "text": [
      "<a class=\"link link--title\" href=\"/movie-reviews/encanto\">Encanto</a>\n",
      "<a class=\"link link--title\" href=\"/movie-reviews/a-little-princess\">A Little Princess</a>\n",
      "<a class=\"link link--title\" href=\"/movie-reviews/raya-and-the-last-dragon\">Raya and the Last Dragon</a>\n",
      "<a class=\"link link--title\" href=\"/tv-reviews/le-pupille\">Le Pupille</a>\n",
      "<a class=\"link link--title\" href=\"/movie-reviews/guillermo-del-toros-pinocchio\">Guillermo del Toro's Pinocchio</a>\n",
      "<a class=\"link link--title\" href=\"/movie-reviews/west-side-story\">West Side Story</a>\n",
      "<a class=\"link link--title\" href=\"/movie-reviews/life-of-pi\">Life of Pi</a>\n",
      "<a class=\"link link--title\" href=\"/movie-reviews/the-new-world\">The New World</a>\n",
      "<a class=\"link link--title\" href=\"/movie-reviews/west-side-story-2021\">West Side Story (2021)</a>\n",
      "<a class=\"link link--title\" href=\"/movie-reviews/argentina-1985\">Argentina, 1985</a>\n",
      "<a class=\"link link--title\" href=\"/movie-reviews/gravity\">Gravity</a>\n",
      "<a class=\"link link--title\" href=\"/movie-reviews/the-tree-of-life\">The Tree of Life</a>\n",
      "<a class=\"link link--title\" href=\"/movie-reviews/pans-labyrinth\">Pan's Labyrinth</a>\n",
      "<a class=\"link link--title\" href=\"/movie-reviews/sound-of-metal\">Sound of Metal</a>\n",
      "<a class=\"link link--title\" href=\"/movie-reviews/the-curious-case-of-benjamin-button\">The Curious Case of Benjamin Button</a>\n",
      "<a class=\"link link--title\" href=\"/movie-reviews/frida\">Frida</a>\n",
      "<a class=\"link link--title\" href=\"/movie-reviews/roma\">Roma</a>\n",
      "<a class=\"link link--title\" href=\"/movie-reviews/the-motorcycle-diaries\">The Motorcycle Diaries</a>\n",
      "<a class=\"link link--title\" href=\"/movie-reviews/birdman\">Birdman</a>\n",
      "<a class=\"link link--title\" href=\"/movie-reviews/the-shape-of-water\">The Shape of Water</a>\n",
      "<a class=\"link link--title\" href=\"/movie-reviews/babel\">Babel</a>\n",
      "<a class=\"link link--title\" href=\"/movie-reviews/traffic\">Traffic</a>\n",
      "<a class=\"link link--title\" href=\"/movie-reviews/brokeback-mountain\">Brokeback Mountain</a>\n",
      "<a class=\"link link--title\" href=\"/movie-reviews/a-fantastic-woman\">A Fantastic Woman</a>\n",
      "<a class=\"link link--title\" href=\"/movie-reviews/children-of-men\">Children of Men</a>\n",
      "<a class=\"link link--title\" href=\"/movie-reviews/blonde\">Blonde</a>\n",
      "<a class=\"link link--title\" href=\"/movie-reviews/the-revenant\">The Revenant</a>\n"
     ]
    }
   ],
   "source": [
    "for i in soup.find_all('h3',class_=\"review-title\"):\n",
    "    href = i.find('a')\n",
    "    print(href)"
   ]
  },
  {
   "cell_type": "code",
   "execution_count": 40,
   "metadata": {},
   "outputs": [
    {
     "name": "stdout",
     "output_type": "stream",
     "text": [
      "/movie-reviews/encanto\n",
      "/movie-reviews/a-little-princess\n",
      "/movie-reviews/raya-and-the-last-dragon\n",
      "/tv-reviews/le-pupille\n",
      "/movie-reviews/guillermo-del-toros-pinocchio\n",
      "/movie-reviews/west-side-story\n",
      "/movie-reviews/life-of-pi\n",
      "/movie-reviews/the-new-world\n",
      "/movie-reviews/west-side-story-2021\n",
      "/movie-reviews/argentina-1985\n",
      "/movie-reviews/gravity\n",
      "/movie-reviews/the-tree-of-life\n",
      "/movie-reviews/pans-labyrinth\n",
      "/movie-reviews/sound-of-metal\n",
      "/movie-reviews/the-curious-case-of-benjamin-button\n",
      "/movie-reviews/frida\n",
      "/movie-reviews/roma\n",
      "/movie-reviews/the-motorcycle-diaries\n",
      "/movie-reviews/birdman\n",
      "/movie-reviews/the-shape-of-water\n",
      "/movie-reviews/babel\n",
      "/movie-reviews/traffic\n",
      "/movie-reviews/brokeback-mountain\n",
      "/movie-reviews/a-fantastic-woman\n",
      "/movie-reviews/children-of-men\n",
      "/movie-reviews/blonde\n",
      "/movie-reviews/the-revenant\n"
     ]
    }
   ],
   "source": [
    "for i in soup.find_all('h3',class_=\"review-title\"):\n",
    "    href = i.find('a')\n",
    "    url = href.attrs['href']\n",
    "    print(url)"
   ]
  },
  {
   "cell_type": "code",
   "execution_count": 41,
   "metadata": {},
   "outputs": [
    {
     "name": "stdout",
     "output_type": "stream",
     "text": [
      "https://www.commonsensemedia.org//movie-reviews/encanto\n",
      "https://www.commonsensemedia.org//movie-reviews/a-little-princess\n",
      "https://www.commonsensemedia.org//movie-reviews/raya-and-the-last-dragon\n",
      "https://www.commonsensemedia.org//tv-reviews/le-pupille\n",
      "https://www.commonsensemedia.org//movie-reviews/guillermo-del-toros-pinocchio\n",
      "https://www.commonsensemedia.org//movie-reviews/west-side-story\n",
      "https://www.commonsensemedia.org//movie-reviews/life-of-pi\n",
      "https://www.commonsensemedia.org//movie-reviews/the-new-world\n",
      "https://www.commonsensemedia.org//movie-reviews/west-side-story-2021\n",
      "https://www.commonsensemedia.org//movie-reviews/argentina-1985\n",
      "https://www.commonsensemedia.org//movie-reviews/gravity\n",
      "https://www.commonsensemedia.org//movie-reviews/the-tree-of-life\n",
      "https://www.commonsensemedia.org//movie-reviews/pans-labyrinth\n",
      "https://www.commonsensemedia.org//movie-reviews/sound-of-metal\n",
      "https://www.commonsensemedia.org//movie-reviews/the-curious-case-of-benjamin-button\n",
      "https://www.commonsensemedia.org//movie-reviews/frida\n",
      "https://www.commonsensemedia.org//movie-reviews/roma\n",
      "https://www.commonsensemedia.org//movie-reviews/the-motorcycle-diaries\n",
      "https://www.commonsensemedia.org//movie-reviews/birdman\n",
      "https://www.commonsensemedia.org//movie-reviews/the-shape-of-water\n",
      "https://www.commonsensemedia.org//movie-reviews/babel\n",
      "https://www.commonsensemedia.org//movie-reviews/traffic\n",
      "https://www.commonsensemedia.org//movie-reviews/brokeback-mountain\n",
      "https://www.commonsensemedia.org//movie-reviews/a-fantastic-woman\n",
      "https://www.commonsensemedia.org//movie-reviews/children-of-men\n",
      "https://www.commonsensemedia.org//movie-reviews/blonde\n",
      "https://www.commonsensemedia.org//movie-reviews/the-revenant\n"
     ]
    }
   ],
   "source": [
    "for i in soup.find_all('h3', class_=\"review-title\"):\n",
    "    href = i.find('a')\n",
    "    url = href.attrs['href']\n",
    "    url = 'https://www.commonsensemedia.org/' + url\n",
    "    print(url)"
   ]
  },
  {
   "cell_type": "code",
   "execution_count": 42,
   "metadata": {},
   "outputs": [],
   "source": [
    "button=driver.find_element(By.XPATH , r'//*//*//*[@id=\"review-teaser-82065\"]/div[3]/a').click() "
   ]
  },
  {
   "cell_type": "code",
   "execution_count": 24,
   "metadata": {},
   "outputs": [],
   "source": [
    "driver.back()"
   ]
  },
  {
   "cell_type": "code",
   "execution_count": 43,
   "metadata": {},
   "outputs": [
    {
     "name": "stdout",
     "output_type": "stream",
     "text": [
      "https://www.commonsensemedia.org//movie-reviews/encanto\n",
      "https://www.commonsensemedia.org//movie-reviews/a-little-princess\n",
      "https://www.commonsensemedia.org//movie-reviews/raya-and-the-last-dragon\n",
      "https://www.commonsensemedia.org//tv-reviews/le-pupille\n",
      "https://www.commonsensemedia.org//movie-reviews/guillermo-del-toros-pinocchio\n",
      "https://www.commonsensemedia.org//movie-reviews/west-side-story\n",
      "https://www.commonsensemedia.org//movie-reviews/life-of-pi\n",
      "https://www.commonsensemedia.org//movie-reviews/the-new-world\n",
      "https://www.commonsensemedia.org//movie-reviews/west-side-story-2021\n",
      "https://www.commonsensemedia.org//movie-reviews/argentina-1985\n",
      "https://www.commonsensemedia.org//movie-reviews/gravity\n",
      "https://www.commonsensemedia.org//movie-reviews/the-tree-of-life\n",
      "https://www.commonsensemedia.org//movie-reviews/pans-labyrinth\n",
      "https://www.commonsensemedia.org//movie-reviews/sound-of-metal\n",
      "https://www.commonsensemedia.org//movie-reviews/the-curious-case-of-benjamin-button\n",
      "https://www.commonsensemedia.org//movie-reviews/frida\n",
      "https://www.commonsensemedia.org//movie-reviews/roma\n",
      "https://www.commonsensemedia.org//movie-reviews/the-motorcycle-diaries\n",
      "https://www.commonsensemedia.org//movie-reviews/birdman\n",
      "https://www.commonsensemedia.org//movie-reviews/the-shape-of-water\n",
      "https://www.commonsensemedia.org//movie-reviews/babel\n",
      "https://www.commonsensemedia.org//movie-reviews/traffic\n",
      "https://www.commonsensemedia.org//movie-reviews/brokeback-mountain\n",
      "https://www.commonsensemedia.org//movie-reviews/a-fantastic-woman\n",
      "https://www.commonsensemedia.org//movie-reviews/children-of-men\n",
      "https://www.commonsensemedia.org//movie-reviews/blonde\n",
      "https://www.commonsensemedia.org//movie-reviews/the-revenant\n"
     ]
    }
   ],
   "source": [
    "url_list = []\n",
    "\n",
    "for i in soup.find_all('h3', class_=\"review-title\"):\n",
    "    href = i.find('a')\n",
    "    url = href.attrs['href']\n",
    "    url = 'https://www.commonsensemedia.org/' + url\n",
    "    url_list.append(url)\n",
    "    print(url)"
   ]
  },
  {
   "cell_type": "code",
   "execution_count": 44,
   "metadata": {},
   "outputs": [],
   "source": [
    "for i in url_list[:2]:\n",
    "    driver.get(i)\n",
    "    time.sleep(3)"
   ]
  },
  {
   "cell_type": "code",
   "execution_count": 45,
   "metadata": {},
   "outputs": [],
   "source": [
    "pd.DataFrame({'title':title_list,'url':url_list}).to_csv('title.csv')"
   ]
  },
  {
   "cell_type": "code",
   "execution_count": 46,
   "metadata": {},
   "outputs": [
    {
     "data": {
      "text/plain": [
       "'c:\\\\Users\\\\82103\\\\Desktop\\\\4학년2학기\\\\빅데이터실습'"
      ]
     },
     "execution_count": 46,
     "metadata": {},
     "output_type": "execute_result"
    }
   ],
   "source": [
    "/pwd"
   ]
  },
  {
   "cell_type": "code",
   "execution_count": 47,
   "metadata": {},
   "outputs": [
    {
     "data": {
      "text/html": [
       "<div>\n",
       "<style scoped>\n",
       "    .dataframe tbody tr th:only-of-type {\n",
       "        vertical-align: middle;\n",
       "    }\n",
       "\n",
       "    .dataframe tbody tr th {\n",
       "        vertical-align: top;\n",
       "    }\n",
       "\n",
       "    .dataframe thead th {\n",
       "        text-align: right;\n",
       "    }\n",
       "</style>\n",
       "<table border=\"1\" class=\"dataframe\">\n",
       "  <thead>\n",
       "    <tr style=\"text-align: right;\">\n",
       "      <th></th>\n",
       "      <th>title</th>\n",
       "      <th>url</th>\n",
       "    </tr>\n",
       "  </thead>\n",
       "  <tbody>\n",
       "    <tr>\n",
       "      <th>0</th>\n",
       "      <td>Encanto</td>\n",
       "      <td>https://www.commonsensemedia.org//movie-review...</td>\n",
       "    </tr>\n",
       "    <tr>\n",
       "      <th>1</th>\n",
       "      <td>A Little Princess</td>\n",
       "      <td>https://www.commonsensemedia.org//movie-review...</td>\n",
       "    </tr>\n",
       "    <tr>\n",
       "      <th>2</th>\n",
       "      <td>Raya and the Last Dragon</td>\n",
       "      <td>https://www.commonsensemedia.org//movie-review...</td>\n",
       "    </tr>\n",
       "    <tr>\n",
       "      <th>3</th>\n",
       "      <td>Le Pupille</td>\n",
       "      <td>https://www.commonsensemedia.org//tv-reviews/l...</td>\n",
       "    </tr>\n",
       "    <tr>\n",
       "      <th>4</th>\n",
       "      <td>Guillermo del Toro's Pinocchio</td>\n",
       "      <td>https://www.commonsensemedia.org//movie-review...</td>\n",
       "    </tr>\n",
       "  </tbody>\n",
       "</table>\n",
       "</div>"
      ],
      "text/plain": [
       "                            title  \\\n",
       "0                         Encanto   \n",
       "1               A Little Princess   \n",
       "2        Raya and the Last Dragon   \n",
       "3                      Le Pupille   \n",
       "4  Guillermo del Toro's Pinocchio   \n",
       "\n",
       "                                                 url  \n",
       "0  https://www.commonsensemedia.org//movie-review...  \n",
       "1  https://www.commonsensemedia.org//movie-review...  \n",
       "2  https://www.commonsensemedia.org//movie-review...  \n",
       "3  https://www.commonsensemedia.org//tv-reviews/l...  \n",
       "4  https://www.commonsensemedia.org//movie-review...  "
      ]
     },
     "execution_count": 47,
     "metadata": {},
     "output_type": "execute_result"
    }
   ],
   "source": [
    "df = pd.read_csv('title.csv',index_col=0)\n",
    "df.head()"
   ]
  }
 ],
 "metadata": {
  "kernelspec": {
   "display_name": "bigdata",
   "language": "python",
   "name": "python3"
  },
  "language_info": {
   "codemirror_mode": {
    "name": "ipython",
    "version": 3
   },
   "file_extension": ".py",
   "mimetype": "text/x-python",
   "name": "python",
   "nbconvert_exporter": "python",
   "pygments_lexer": "ipython3",
   "version": "3.9.0"
  },
  "orig_nbformat": 4
 },
 "nbformat": 4,
 "nbformat_minor": 2
}
